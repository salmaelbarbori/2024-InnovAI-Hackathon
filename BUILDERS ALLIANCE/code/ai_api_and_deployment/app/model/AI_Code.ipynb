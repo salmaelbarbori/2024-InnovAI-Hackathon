{
 "cells": [
  {
   "cell_type": "markdown",
   "metadata": {},
   "source": [
    "##### This Notebook contains the function we used to build our AI system aiming to assist Moroccan travelers in finding the best spots to visit in few seconds"
   ]
  },
  {
   "cell_type": "markdown",
   "metadata": {
    "id": "K_Y6hRcB9sDY"
   },
   "source": [
    "## Importing libraries"
   ]
  },
  {
   "cell_type": "code",
   "execution_count": null,
   "metadata": {
    "colab": {
     "base_uri": "https://localhost:8080/"
    },
    "collapsed": true,
    "id": "qmxCIAU-9rrh",
    "outputId": "722d9fe4-75bb-454e-ea2a-34993ac2241e"
   },
   "outputs": [],
   "source": [
    "!pip install openai"
   ]
  },
  {
   "cell_type": "code",
   "execution_count": null,
   "metadata": {
    "id": "-ZdbRKAVG_QC"
   },
   "outputs": [],
   "source": [
    "import openai\n",
    "import re"
   ]
  },
  {
   "cell_type": "markdown",
   "metadata": {
    "id": "9vneziqP6ySn"
   },
   "source": [
    "## Preparing the dataset"
   ]
  },
  {
   "cell_type": "code",
   "execution_count": null,
   "metadata": {
    "id": "ypY0XT3R6qJq"
   },
   "outputs": [],
   "source": [
    "import json\n",
    "dataset = json.loads(open('../dataset/preprocessed_dataset_sample.json').read())"
   ]
  },
  {
   "cell_type": "code",
   "execution_count": null,
   "metadata": {
    "colab": {
     "base_uri": "https://localhost:8080/"
    },
    "collapsed": true,
    "id": "rWH5j7HO_Ao6",
    "outputId": "4b12ac51-07b9-45c0-efbf-a6608abd652b"
   },
   "outputs": [
    {
     "data": {
      "text/plain": [
       "{'user': 'شنو هما الأماكن اللي خاص عشاق التاريخ يزوروها فمراكش؟',\n",
       " 'assistant': 'عشاق التاريخ فمراكش خاصهم يزورو القبور السعدية باش يعرفو على التاريخ الملكي، قصر الباهية بسبب الهندسة المعمارية المعقدة، ومسجد الكتبية اللي هو أكبر مسجد فمراكش.'}"
      ]
     },
     "execution_count": 42,
     "metadata": {},
     "output_type": "execute_result"
    }
   ],
   "source": [
    "dataset[0]"
   ]
  },
  {
   "cell_type": "markdown",
   "metadata": {
    "id": "uyiR7U8ODaJw"
   },
   "source": []
  },
  {
   "cell_type": "markdown",
   "metadata": {
    "id": "qryANcHXE4Ao"
   },
   "source": [
    "## Adding the context"
   ]
  },
  {
   "cell_type": "code",
   "execution_count": null,
   "metadata": {
    "id": "Zt-g9-Z8E56j"
   },
   "outputs": [],
   "source": [
    "systemInstruct = {\n",
    "    \"role\": \"assistant\",\n",
    "    \"content\":  \"You are a Moroccan Dielect Assistant, helping tourists finding the best spots to visit in Morocco. Your answers should be in ARabic more precisely darija and they are based on the provided examples along with your knowledge from trip advisor. No greating or futher explanation apart the answer in darija\"\n",
    "}"
   ]
  },
  {
   "cell_type": "code",
   "execution_count": null,
   "metadata": {
    "id": "UXZPoGG7FHBL"
   },
   "outputs": [],
   "source": [
    "messages = [systemInstruct] + dataset"
   ]
  },
  {
   "cell_type": "code",
   "execution_count": null,
   "metadata": {
    "colab": {
     "base_uri": "https://localhost:8080/"
    },
    "collapsed": true,
    "id": "njMV3rBEKIFC",
    "outputId": "378e1778-928a-4811-8ecc-86484c60448d"
   },
   "outputs": [
    {
     "data": {
      "text/plain": [
       "[{'role': 'assistant',\n",
       "  'content': 'You are a Moroccan Dielect Assistant, helping tourists finding the best spots to visit in Morocco. Your answers should be in ARabic more precisely darija and they are based on the provided examples along with your knowledge from trip advisor. No greating or futher explanation apart the answer in darija'},\n",
       " {'user': 'شنو هما الأماكن اللي خاص عشاق التاريخ يزوروها فمراكش؟',\n",
       "  'assistant': 'عشاق التاريخ فمراكش خاصهم يزورو القبور السعدية باش يعرفو على التاريخ الملكي، قصر الباهية بسبب الهندسة المعمارية المعقدة، ومسجد الكتبية اللي هو أكبر مسجد فمراكش.'},\n",
       " {'user': 'كنخطط نزور كازا فشهر ماي. شنو هي الأنشطة الفريدة اللي خاصني نحاول نجربها؟',\n",
       "  'assistant': 'فشهر ماي، تقدر تتمشى على طول كورنيش عين دياب، تزور المغرب مول باش تشوف الأكواريوم المميز والتسوق الفاخر، وتتعشا فريك كافيه اللي مستوحى من الفيلم كازابلانكا.'},\n",
       " {'user': 'شنو هما أحسن البلايص ففاس باش تعيش تجربة ثقافية؟',\n",
       "  'assistant': 'ففاس، خاصك تزور مدرسة العطارين حيت عندها زليج معقد، تشوف المدابغ وتتعلم على الصنعة التقليدية، وتتجول فالسوق الكبير ديال المدينة القديمة اللي هي موقع ديال اليونسكو.'},\n",
       " {'user': 'شنو هي الأنشطة اللي كتوفرها الصويرة لعشاق المغامرة؟',\n",
       "  'assistant': 'عشاق المغامرة فالصويرة يقدرو يجربو ركوب الأمواج بالرياح، يركبو الخيل على الشاطئ، ويكتشفو الكثبان الرملية بدراجات الرباعية.'},\n",
       " {'user': 'شنو هي الأنشطة المميزة فرباط للأطفال؟',\n",
       "  'assistant': 'فرباط مع الأطفال، تقدر تزور حديقة الحيوانات باش تشوف الحيوانات الغريبة، تدير نزهة فمارينا بورقراق، وتكتشف المتحف العلمي للأطفال اللي عندو عروض تفاعلية.'},\n",
       " {'user': 'شنو هي أفضل الأنشطة فطنجة فشهر سبتمبر؟',\n",
       "  'assistant': 'فسبتمبر، زور منارة كاب سبارطيل باش تشوف مناظر ساحلية رائعة، اكتشف مغارات هرقل، وتمشى فقصبة طنجة باش تستمتع بالثقافة المحلية.'},\n",
       " {'user': 'شنو هما الأماكن اللي خارج المسار السياحي فشفشاون؟',\n",
       "  'assistant': 'فشفشاون، سير لجبل أقشور باش تستمتع بالطبيعة، زور راس الماء باش تشوف المناظر، وتجول فالأزقة الزرقاء البعيدة على الساحة الرئيسية باش تكون تجربة هادئة.'},\n",
       " {'user': 'بغيت نزور أكادير. شنو هي الأنشطة المميزة ديال العناية بالذات؟',\n",
       "  'assistant': 'فاكادير، استمتع بتجربة الحمام المغربي التقليدي، خد دروس اليوغا على الشاطئ، وزور كروكو بارك باش تدوز نهار وسط الحدائق والتماسيح.'},\n",
       " {'user': 'شنو هي أحسن التجارب ديال الماكلة اللي خاصني نجربها فمراكش؟',\n",
       "  'assistant': 'فمراكش، تغدا فشي مطعم على السطح فالمدينة القديمة وجرب الطاجين، زور دار يعقوت باش تعيش وجبة مغربية راقية، وجرب المأكولات فجامع الفنا بحال المسمن والحريرة.'},\n",
       " {'user': 'شنو هي الأماكن اللي خاصك تزورها فمكناس فنهار واحد؟',\n",
       "  'assistant': 'فنهار واحد فمكناس، زور باب المنصور، ضريح مولاي إسماعيل، والأطلال الرومانية ديال وليلي اللي قريبة من المدينة.'},\n",
       " {'user': 'شنو هي أفضل بلايص باش تشوف النجوم فمرزوكة؟',\n",
       "  'assistant': 'فمرزوكة، خاصك تحجز ليلة فمخيم أمازيغي فالصحرا، تطلع فوق كثبان عرق الشبي باش تشوف منظر واضح، وتتمتع بمشاهدة النجوم خلال جولة بالجمال.'},\n",
       " {'user': 'شنو هي أجمل البلايص اللي كتعطي مناظر فداخلة؟',\n",
       "  'assistant': 'فداخلة، زور جزيرة التنين باش تستمتع بالمناظر، اكتشف الكثيب الأبيض اللي كيجمع بين الصحرا والبحر، وتمتع بالمناظر ديال اللاجون وأنت كتمارس الكايت سورف.'},\n",
       " {'user': 'شنو خاصني نزور فوارزازات إذا عندي غير نهار واحد؟',\n",
       "  'assistant': 'فنهار واحد، زور قصبة آيت بن حدو باش تشوف المناظر التاريخية، دير جولة فستوديوهات الأطلس السينمائية، وشوف قصبة تاوريرت اللي وسط المدينة.'},\n",
       " {'user': 'شنو هي الأماكن اللي خاصك تزورها باش تدير رياضة المشي فإفران؟',\n",
       "  'assistant': 'حدا إفران، تمشى فغابة الأرز باش تشوف القردة، اكتشف المسارات ديال ميشليفن، وزور بحيرة ضاية عوا باش تشوف مناظر زوينة ومسارات هادئة.'},\n",
       " {'user': 'شنو هي الأماكن اللي خاص عشاق الفن يكتشفوها فتيطوان؟',\n",
       "  'assistant': 'عشاق الفن خاصهم يزورو المعهد الوطني للفنون الجميلة، يكتشفو ورشات الحرفيين فالمدينة القديمة، ويشوفو المتحف الأركيولوجي باش يتعرفو على الثقافة المحلية.'},\n",
       " {'user': 'شنو هي أفضل الأنشطة فوجدة فالربيع؟',\n",
       "  'assistant': 'فالربيع، تمتع بالزهور اللي كيزهرو فحديقة للا عيشة، زور المسجد الكبير باش تعيش تجربة روحانية، واستكشف واحة سيدي يحيى اللي كتوفر راحة وهدوء.'},\n",
       " {'user': 'شنو هي التجارب الفريدة اللي كيمكن تصورها فمدينة أصيلة؟',\n",
       "  'assistant': 'المصورين غادي يعجبهم يصورو الجداريات الملونة فمدينة أصيلة، يشوفو مناظر غروب الشمس من الأسوار، ويكتشفو الجمال الطبيعي ديال شاطئ الجنة.'}]"
      ]
     },
     "execution_count": 106,
     "metadata": {},
     "output_type": "execute_result"
    }
   ],
   "source": [
    "messages"
   ]
  },
  {
   "cell_type": "markdown",
   "metadata": {},
   "source": [
    "## Generation Function"
   ]
  },
  {
   "cell_type": "code",
   "execution_count": null,
   "metadata": {
    "id": "lonOMrqVHSRT"
   },
   "outputs": [],
   "source": [
    "my_api_key =\"***\""
   ]
  },
  {
   "cell_type": "code",
   "execution_count": null,
   "metadata": {
    "id": "tBXOLKUiGyQC"
   },
   "outputs": [],
   "source": [
    "client = openai.OpenAI(api_key=my_api_key)"
   ]
  },
  {
   "cell_type": "code",
   "execution_count": null,
   "metadata": {
    "id": "06rZy59RwX2y"
   },
   "outputs": [],
   "source": [
    "import re"
   ]
  },
  {
   "cell_type": "code",
   "execution_count": null,
   "metadata": {
    "id": "4NtqrhGhHQIS"
   },
   "outputs": [],
   "source": [
    "import openai\n",
    "\n",
    "def generate_openai_response(user_input, client):\n",
    "    try:\n",
    "\n",
    "        # The list of predefined questions and answers\n",
    "        predefined_conversations = messages\n",
    "\n",
    "        # Add the user input to the conversation\n",
    "        predefined_conversations.append({\"role\": \"user\", \"content\": user_input})\n",
    "\n",
    "        # Call OpenAI's API with the conversation history\n",
    "        response = client.chat.completions.create(\n",
    "            model=\"gpt-4\", \n",
    "            max_tokens=1000,\n",
    "            temperature=0.01,\n",
    "            messages=predefined_conversations\n",
    "        )\n",
    "\n",
    "        # Return the assistant's response\n",
    "        ans = \"\\u200B\\n\\n\" + response.choices[0].message.content\n",
    "        return ans\n",
    "\n",
    "    except Exception as e:\n",
    "        return f\"An error occurred: {str(e)}\"\n"
   ]
  },
  {
   "cell_type": "markdown",
   "metadata": {},
   "source": [
    "## Testing"
   ]
  },
  {
   "cell_type": "code",
   "execution_count": null,
   "metadata": {
    "id": "flRMuU-1zJvr"
   },
   "outputs": [],
   "source": [
    "user_input = \"بغيت نزور أكادير. شنو هي الأنشطة المميزة ديال العناية بالذات؟\""
   ]
  },
  {
   "cell_type": "code",
   "execution_count": null,
   "metadata": {
    "id": "P5tp9JJpIqAT"
   },
   "outputs": [],
   "source": [
    "def main ():\n",
    "      response = generate_openai_response(user_input,client)\n",
    "      print(response)"
   ]
  },
  {
   "cell_type": "code",
   "execution_count": null,
   "metadata": {
    "id": "QZ2LabhVrtiJ"
   },
   "outputs": [],
   "source": []
  },
  {
   "cell_type": "code",
   "execution_count": null,
   "metadata": {
    "colab": {
     "base_uri": "https://localhost:8080/"
    },
    "id": "MzvqypSdI8X6",
    "outputId": "002e5148-c0bd-41a0-cb91-8d77e0d13157"
   },
   "outputs": [
    {
     "name": "stdout",
     "output_type": "stream",
     "text": [
      "​\n",
      "\n",
      "فاكادير، يمكنك الاستمتاع بتجربة الحمام المغربي التقليدي في أحد النوادي الصحية المحلية، أو الاسترخاء والتدليك في أحد المنتجعات الفاخرة. يمكنك أيضاً حجز جلسة يوغا على الشاطئ أو في أحد مراكز اليوغا المحلية. بالإضافة إلى ذلك، يمكنك زيارة حديقة الكروكو بارك، حيث يمكنك الاسترخاء وسط الطبيعة الخلابة والتمتع بمشاهدة التماسيح.\n"
     ]
    }
   ],
   "source": [
    "if __name__ == \"__main__\":\n",
    "    main()"
   ]
  },
  {
   "cell_type": "code",
   "execution_count": null,
   "metadata": {
    "id": "jKVyhirNXxLR"
   },
   "outputs": [],
   "source": [
    "dataset_ = []\n",
    "for data in dataset:\n",
    "  # Append a new dictionary to the list instead of trying to use string keys.\n",
    "  dataset_.append({\"user\": data[\"input\"], \"assistant\": data[\"output\"]})"
   ]
  },
  {
   "cell_type": "markdown",
   "metadata": {},
   "source": [
    "## Thank you"
   ]
  }
 ],
 "metadata": {
  "colab": {
   "provenance": []
  },
  "kernelspec": {
   "display_name": "Python 3",
   "name": "python3"
  },
  "language_info": {
   "name": "python"
  }
 },
 "nbformat": 4,
 "nbformat_minor": 0
}
